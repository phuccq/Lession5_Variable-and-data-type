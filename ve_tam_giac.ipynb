{
 "cells": [
  {
   "cell_type": "code",
   "execution_count": 1,
   "id": "74c8228e",
   "metadata": {},
   "outputs": [],
   "source": [
    "import turtle\n",
    "import math\n",
    "t = turtle.Turtle()\n",
    "n = 3\n",
    "canh_trong = 100\n",
    "goc_trong = 360/n\n",
    "goc_ngoai = (180 - goc_trong)/2\n",
    "canh_ngoai = 2 * math.cos(math.radians(goc_ngoai)) * canh_trong\n",
    "\n",
    "t.forward(canh_trong)\n",
    "t.left(180-goc_ngoai)\n",
    "t.forward(canh_ngoai)\n",
    "t.left(180-goc_ngoai)\n",
    "t.forward(canh_trong)\n",
    "\n",
    "t.right(180-goc_trong)\n",
    "t.forward(canh_trong)\n",
    "\n",
    "t.left(180+goc_ngoai)\n",
    "t.forward(canh_ngoai)\n",
    "\n",
    "t.right(goc_trong)\n",
    "t.forward(canh_ngoai)\n",
    "\n",
    "t.right(goc_trong)\n",
    "t.forward(canh_ngoai)\n",
    "\n",
    "turtle.done()"
   ]
  },
  {
   "cell_type": "code",
   "execution_count": null,
   "id": "769edf67",
   "metadata": {},
   "outputs": [],
   "source": []
  }
 ],
 "metadata": {
  "kernelspec": {
   "display_name": "Python 3 (ipykernel)",
   "language": "python",
   "name": "python3"
  },
  "language_info": {
   "codemirror_mode": {
    "name": "ipython",
    "version": 3
   },
   "file_extension": ".py",
   "mimetype": "text/x-python",
   "name": "python",
   "nbconvert_exporter": "python",
   "pygments_lexer": "ipython3",
   "version": "3.9.12"
  }
 },
 "nbformat": 4,
 "nbformat_minor": 5
}
