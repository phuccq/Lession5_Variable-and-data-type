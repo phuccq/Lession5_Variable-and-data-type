{
 "cells": [
  {
   "cell_type": "code",
   "execution_count": 1,
   "id": "af83018a",
   "metadata": {},
   "outputs": [
    {
     "name": "stdout",
     "output_type": "stream",
     "text": [
      "Nhập nhiệt độ cần chuyển sang độ F:36\n",
      "96.8\n"
     ]
    }
   ],
   "source": [
    "c = input(\"Nhập nhiệt độ cần chuyển sang độ F:\")\n",
    "f = (9*(int(c))/5)+32\n",
    "print(f)"
   ]
  },
  {
   "cell_type": "code",
   "execution_count": null,
   "id": "5889a1b3",
   "metadata": {},
   "outputs": [],
   "source": []
  }
 ],
 "metadata": {
  "kernelspec": {
   "display_name": "Python 3 (ipykernel)",
   "language": "python",
   "name": "python3"
  },
  "language_info": {
   "codemirror_mode": {
    "name": "ipython",
    "version": 3
   },
   "file_extension": ".py",
   "mimetype": "text/x-python",
   "name": "python",
   "nbconvert_exporter": "python",
   "pygments_lexer": "ipython3",
   "version": "3.9.12"
  }
 },
 "nbformat": 4,
 "nbformat_minor": 5
}
